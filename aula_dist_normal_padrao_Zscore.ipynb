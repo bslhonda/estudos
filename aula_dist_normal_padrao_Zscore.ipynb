{
 "cells": [
  {
   "cell_type": "markdown",
   "metadata": {},
   "source": [
    "# Distribuição Normal de Probabilidades \n",
    "\n",
    "## Cálculo da área sob a curva gaussiana\n",
    "\n",
    "Este código foi desenvolvido para calcular os valores da área sob o gráfico de uma curva gaussiana. Ao final, usa-se a rotina para calcular toda a tabela Z-score ;)"
   ]
  },
  {
   "cell_type": "code",
   "execution_count": 20,
   "metadata": {},
   "outputs": [],
   "source": [
    "import numpy as np\n",
    "from sympy import *\n",
    "from sympy.abc import mu, sigma\n",
    "\n",
    "init_printing(pretty_print=True)\n",
    "\n",
    "x = Symbol('x')"
   ]
  },
  {
   "cell_type": "markdown",
   "metadata": {},
   "source": [
    "Vamos calcular a integral numérica:\n",
    "\n",
    "$\\int_{a}^{b} \\frac{1}{\\sigma\\sqrt{2\\pi}} \\exp\\left(-\\frac{1}{2}\\left(\\frac{x-\\mu}{\\sigma}\\right)^{2}\\right) \\ dx\\$\n",
    "\n",
    "O código abaixo recebe os valores dos limites e integração $a$ e $b$, assumindo $\\mu=0$ e $\\sigma=1$.\n"
   ]
  },
  {
   "cell_type": "code",
   "execution_count": 28,
   "metadata": {},
   "outputs": [
    {
     "name": "stdout",
     "output_type": "stream",
     "text": [
      "O resultado da integral entre os limites 0 e 1  é igual à: 0.3413\n"
     ]
    }
   ],
   "source": [
    "# distribuição normal de probabilidade\n",
    "n = 1/(sigma*np.sqrt(2*np.pi))*exp(-0.5*((x-mu)/sigma)**2)\n",
    "\n",
    "# valores da média e desvio padrão\n",
    "mu = 0\n",
    "sigma = 1\n",
    "\n",
    "# os limites inferior e superior da integral\n",
    "a = 0\n",
    "b = 1\n",
    "\n",
    "r = Integral(n, (x,a,b)).doit().evalf()\n",
    "print(f'O resultado da integral entre os limites {a} e {b}  é igual à: {r:.4f}')"
   ]
  },
  {
   "cell_type": "markdown",
   "metadata": {},
   "source": [
    "Sabe como construir a tabela de Z-score? Calculando TODAS as integrais entre os extremos de integração e o meio da curva (zero). Para Z>0, podemos acertar o limite para x=3,9 e somar um incremento (na tabela usa-se 0,01 - aqui deixei 0,1 para ficar mais rápido de visualizar. Caso deseje a tabela completa mude o passo para 0,01 atualizando a linha) \n",
    "\n",
    "b += 0.01"
   ]
  },
  {
   "cell_type": "code",
   "execution_count": 29,
   "metadata": {},
   "outputs": [
    {
     "name": "stdout",
     "output_type": "stream",
     "text": [
      "A área para Z=3.90  é igual à: 0.5000\n",
      "A área para Z=3.80  é igual à: 0.4999\n",
      "A área para Z=3.70  é igual à: 0.4999\n",
      "A área para Z=3.60  é igual à: 0.4998\n",
      "A área para Z=3.50  é igual à: 0.4998\n",
      "A área para Z=3.40  é igual à: 0.4997\n",
      "A área para Z=3.30  é igual à: 0.4995\n",
      "A área para Z=3.20  é igual à: 0.4993\n",
      "A área para Z=3.10  é igual à: 0.4990\n",
      "A área para Z=3.00  é igual à: 0.4987\n",
      "A área para Z=2.90  é igual à: 0.4981\n",
      "A área para Z=2.80  é igual à: 0.4974\n",
      "A área para Z=2.70  é igual à: 0.4965\n",
      "A área para Z=2.60  é igual à: 0.4953\n",
      "A área para Z=2.50  é igual à: 0.4938\n",
      "A área para Z=2.40  é igual à: 0.4918\n",
      "A área para Z=2.30  é igual à: 0.4893\n",
      "A área para Z=2.20  é igual à: 0.4861\n",
      "A área para Z=2.10  é igual à: 0.4821\n",
      "A área para Z=2.00  é igual à: 0.4772\n",
      "A área para Z=1.90  é igual à: 0.4713\n",
      "A área para Z=1.80  é igual à: 0.4641\n",
      "A área para Z=1.70  é igual à: 0.4554\n",
      "A área para Z=1.60  é igual à: 0.4452\n",
      "A área para Z=1.50  é igual à: 0.4332\n",
      "A área para Z=1.40  é igual à: 0.4192\n",
      "A área para Z=1.30  é igual à: 0.4032\n",
      "A área para Z=1.20  é igual à: 0.3849\n",
      "A área para Z=1.10  é igual à: 0.3643\n",
      "A área para Z=1.00  é igual à: 0.3413\n",
      "A área para Z=0.90  é igual à: 0.3159\n",
      "A área para Z=0.80  é igual à: 0.2881\n",
      "A área para Z=0.70  é igual à: 0.2580\n",
      "A área para Z=0.60  é igual à: 0.2257\n",
      "A área para Z=0.50  é igual à: 0.1915\n",
      "A área para Z=0.40  é igual à: 0.1554\n",
      "A área para Z=0.30  é igual à: 0.1179\n",
      "A área para Z=0.20  é igual à: 0.0793\n",
      "A área para Z=0.10  é igual à: 0.0398\n"
     ]
    }
   ],
   "source": [
    "n = 1/(sigma*np.sqrt(2*np.pi))*exp(-0.5*((x-mu)/sigma)**2)\n",
    "mu = 0\n",
    "sigma = 1\n",
    "b = 3.9\n",
    "a = 0\n",
    "while b > 0:\n",
    "    r = Integral(n, (x,a,b)).doit().evalf()\n",
    "    print(f'A área para Z={b:.2f}  é igual à: {r:.4f}')\n",
    "    #variável que controla o incremento do extremo de integração (valor de Z)\n",
    "    b -= 0.1"
   ]
  },
  {
   "cell_type": "code",
   "execution_count": null,
   "metadata": {},
   "outputs": [],
   "source": []
  },
  {
   "cell_type": "code",
   "execution_count": null,
   "metadata": {},
   "outputs": [],
   "source": []
  }
 ],
 "metadata": {
  "kernelspec": {
   "display_name": "Python 3",
   "language": "python",
   "name": "python3"
  },
  "language_info": {
   "codemirror_mode": {
    "name": "ipython",
    "version": 3
   },
   "file_extension": ".py",
   "mimetype": "text/x-python",
   "name": "python",
   "nbconvert_exporter": "python",
   "pygments_lexer": "ipython3",
   "version": "3.8.5"
  }
 },
 "nbformat": 4,
 "nbformat_minor": 4
}
